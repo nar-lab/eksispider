{
 "cells": [
  {
   "cell_type": "markdown",
   "metadata": {},
   "source": [
    "Word similarity in python\n",
    "https://stackoverflow.com/questions/17388213/find-the-similarity-percent-between-two-strings"
   ]
  },
  {
   "cell_type": "code",
   "execution_count": 121,
   "metadata": {
    "collapsed": true
   },
   "outputs": [],
   "source": [
    "import pandas as pd\n",
    "import json\n",
    "import operator\n",
    "import re\n",
    "from difflib import SequenceMatcher\n",
    "import distance\n",
    "import jellyfish\n",
    "from collections import Counter\n",
    "import os"
   ]
  },
  {
   "cell_type": "markdown",
   "metadata": {},
   "source": [
    "## Eksisozluk Derlemin Okunması\n",
    "- Satırlar Json formatından liste formatına çevriliyor"
   ]
  },
  {
   "cell_type": "code",
   "execution_count": 122,
   "metadata": {
    "collapsed": true
   },
   "outputs": [],
   "source": [
    "with open(\"icerik.jl\") as f:\n",
    "    lines = f.readlines()\n",
    "lines_js = [json.loads(line) for line in lines]"
   ]
  },
  {
   "cell_type": "markdown",
   "metadata": {},
   "source": [
    "## Listenin Pandas Dataframe'e Çevrilmesi\n",
    "- URL, Page Number, ID, Author gibi alanlarda metin işlemleri"
   ]
  },
  {
   "cell_type": "code",
   "execution_count": 123,
   "metadata": {
    "collapsed": true
   },
   "outputs": [],
   "source": [
    "lines_df = pd.DataFrame(lines_js)\n",
    "lines_df[\"url\"] = lines_df.url.apply(lambda x:x[23:])\n",
    "#lines_df[\"topic\"] = lines_df.url.apply(lambda x:x.split(\"?\")[0])\n",
    "lines_df[\"page_number\"] = lines_df.url.apply(lambda x:x.split(\"?\")[1].split(\"&\")[1].split(\"=\")[1])\n",
    "del lines_df[\"url\"]\n",
    "lines_df[\"id_s\"] = lines_df.id.apply(lambda x:str(x)[2:-2])\n",
    "del lines_df[\"id\"]\n",
    "lines_df[\"author_s\"] = lines_df.author.apply(lambda x:str(x)[2:-2])\n",
    "del lines_df[\"author\"]"
   ]
  },
  {
   "cell_type": "markdown",
   "metadata": {},
   "source": [
    "## Nihai DataFrame'in görüntüsü"
   ]
  },
  {
   "cell_type": "code",
   "execution_count": 124,
   "metadata": {},
   "outputs": [
    {
     "data": {
      "text/html": [
       "<div>\n",
       "<style>\n",
       "    .dataframe thead tr:only-child th {\n",
       "        text-align: right;\n",
       "    }\n",
       "\n",
       "    .dataframe thead th {\n",
       "        text-align: left;\n",
       "    }\n",
       "\n",
       "    .dataframe tbody tr th {\n",
       "        vertical-align: top;\n",
       "    }\n",
       "</style>\n",
       "<table border=\"1\" class=\"dataframe\">\n",
       "  <thead>\n",
       "    <tr style=\"text-align: right;\">\n",
       "      <th></th>\n",
       "      <th>content</th>\n",
       "      <th>header</th>\n",
       "      <th>page_number</th>\n",
       "      <th>id_s</th>\n",
       "      <th>author_s</th>\n",
       "    </tr>\n",
       "  </thead>\n",
       "  <tbody>\n",
       "    <tr>\n",
       "      <th>0</th>\n",
       "      <td>\\r\\n    aşırı uzun yazayım ki derdim büyük gör...</td>\n",
       "      <td>9 şubat 2018 apple watch rezaleti</td>\n",
       "      <td>3</td>\n",
       "      <td>74106621</td>\n",
       "      <td>import os</td>\n",
       "    </tr>\n",
       "    <tr>\n",
       "      <th>1</th>\n",
       "      <td>\\r\\n    garmin ve apple arasında kalıp apple'ı...</td>\n",
       "      <td>9 şubat 2018 apple watch rezaleti</td>\n",
       "      <td>3</td>\n",
       "      <td>74106708</td>\n",
       "      <td>whokares</td>\n",
       "    </tr>\n",
       "    <tr>\n",
       "      <th>2</th>\n",
       "      <td>\\r\\n    hergün en az iki tane (rezalet olmayan...</td>\n",
       "      <td>9 şubat 2018 apple watch rezaleti</td>\n",
       "      <td>3</td>\n",
       "      <td>74106719</td>\n",
       "      <td>yuzuklerinprensesi</td>\n",
       "    </tr>\n",
       "    <tr>\n",
       "      <th>3</th>\n",
       "      <td>\\r\\n    (bkz:  birisine sen malsın diyememek )...</td>\n",
       "      <td>9 şubat 2018 apple watch rezaleti</td>\n",
       "      <td>3</td>\n",
       "      <td>74106730</td>\n",
       "      <td>bagirmayan taraftar</td>\n",
       "    </tr>\n",
       "    <tr>\n",
       "      <th>4</th>\n",
       "      <td>\\r\\n    ---  spoiler  --- elbette bu durumunda...</td>\n",
       "      <td>9 şubat 2018 apple watch rezaleti</td>\n",
       "      <td>3</td>\n",
       "      <td>74106744</td>\n",
       "      <td>metamorfik dalak</td>\n",
       "    </tr>\n",
       "  </tbody>\n",
       "</table>\n",
       "</div>"
      ],
      "text/plain": [
       "                                             content  \\\n",
       "0  \\r\\n    aşırı uzun yazayım ki derdim büyük gör...   \n",
       "1  \\r\\n    garmin ve apple arasında kalıp apple'ı...   \n",
       "2  \\r\\n    hergün en az iki tane (rezalet olmayan...   \n",
       "3  \\r\\n    (bkz:  birisine sen malsın diyememek )...   \n",
       "4  \\r\\n    ---  spoiler  --- elbette bu durumunda...   \n",
       "\n",
       "                              header page_number      id_s  \\\n",
       "0  9 şubat 2018 apple watch rezaleti           3  74106621   \n",
       "1  9 şubat 2018 apple watch rezaleti           3  74106708   \n",
       "2  9 şubat 2018 apple watch rezaleti           3  74106719   \n",
       "3  9 şubat 2018 apple watch rezaleti           3  74106730   \n",
       "4  9 şubat 2018 apple watch rezaleti           3  74106744   \n",
       "\n",
       "              author_s  \n",
       "0            import os  \n",
       "1             whokares  \n",
       "2   yuzuklerinprensesi  \n",
       "3  bagirmayan taraftar  \n",
       "4     metamorfik dalak  "
      ]
     },
     "execution_count": 124,
     "metadata": {},
     "output_type": "execute_result"
    }
   ],
   "source": [
    "lines_df.head()"
   ]
  },
  {
   "cell_type": "markdown",
   "metadata": {},
   "source": [
    "## Girdilerin Kelimelere Ayrıştırılması\n",
    "- Yeni satır karakterleri temizleniyor"
   ]
  },
  {
   "cell_type": "code",
   "execution_count": 126,
   "metadata": {},
   "outputs": [
    {
     "data": {
      "text/plain": [
       "content        1630\n",
       "header         1630\n",
       "page_number    1630\n",
       "id_s           1630\n",
       "author_s       1630\n",
       "dtype: int64"
      ]
     },
     "execution_count": 126,
     "metadata": {},
     "output_type": "execute_result"
    }
   ],
   "source": [
    "lines_df.count()"
   ]
  },
  {
   "cell_type": "code",
   "execution_count": 127,
   "metadata": {
    "scrolled": false
   },
   "outputs": [
    {
     "data": {
      "text/plain": [
       "0    \\r\\n    aşırı uzun yazayım ki derdim büyük gör...\n",
       "1    \\r\\n    garmin ve apple arasında kalıp apple'ı...\n",
       "2    \\r\\n    hergün en az iki tane (rezalet olmayan...\n",
       "3    \\r\\n    (bkz:  birisine sen malsın diyememek )...\n",
       "4    \\r\\n    ---  spoiler  --- elbette bu durumunda...\n",
       "Name: content, dtype: object"
      ]
     },
     "execution_count": 127,
     "metadata": {},
     "output_type": "execute_result"
    }
   ],
   "source": [
    "lines_df.content.head()"
   ]
  },
  {
   "cell_type": "code",
   "execution_count": 128,
   "metadata": {
    "collapsed": true
   },
   "outputs": [],
   "source": [
    "contents = lines_df.content.apply(lambda x: x.replace(\"\\r\\n\",\"\"))"
   ]
  },
  {
   "cell_type": "markdown",
   "metadata": {},
   "source": [
    "## Gereksiz Kelimeler"
   ]
  },
  {
   "cell_type": "code",
   "execution_count": 129,
   "metadata": {
    "collapsed": true
   },
   "outputs": [],
   "source": [
    "stoplist = open(\"turkce-stop-words\",encoding=\"utf8\").readlines()\n",
    "stoplist = [x.replace(\"\\n\",\"\") for x in stoplist]"
   ]
  },
  {
   "cell_type": "code",
   "execution_count": 130,
   "metadata": {
    "collapsed": true
   },
   "outputs": [],
   "source": [
    "stoplist.append(\"bkz\")\n",
    "stoplist.append(\"amk\")\n",
    "stoplist.append(\"edit\")\n",
    "stoplist.append(\"lan\")\n"
   ]
  },
  {
   "cell_type": "markdown",
   "metadata": {},
   "source": [
    "## Referans Kelime Sözlüğünün Oluşturulması\n",
    "- Kelimenin uzunluğu yetersiz ise temizlenir\n",
    "- Nümerik ve özel karakterler temizlenir\n",
    "- Stoplist içerisinde geçiyorsa temizlenir\n",
    "- Bu kurallardan geçmiş ise, sözlük listesinde dökümanlarda görülme frekansı ile birlikte eklenir"
   ]
  },
  {
   "cell_type": "code",
   "execution_count": 131,
   "metadata": {},
   "outputs": [],
   "source": [
    "bag_of_words = dict()\n",
    "for a in contents:\n",
    "    t = a.lower().split(\" \")\n",
    "    t = [re.sub('\\W+', '', x) for x in t]\n",
    "    t = [re.sub('[0-9]+', '', x) for x in t]\n",
    "    for x in t:\n",
    "        if len(x) < 2:\n",
    "            continue\n",
    "        if len(x) > 30:\n",
    "            continue\n",
    "        if x[:4] == \"http\":\n",
    "            continue\n",
    "        if x in stoplist:\n",
    "            continue\n",
    "        if x in bag_of_words.keys():\n",
    "            bag_of_words[x] += 1\n",
    "        else:\n",
    "            bag_of_words[x] = 1\n"
   ]
  },
  {
   "cell_type": "markdown",
   "metadata": {},
   "source": [
    "## Dökümanlarda en sık geçen kelimeler"
   ]
  },
  {
   "cell_type": "code",
   "execution_count": 132,
   "metadata": {
    "scrolled": true
   },
   "outputs": [
    {
     "data": {
      "text/plain": [
       "[('yok', 263),\n",
       " ('soy', 180),\n",
       " ('büyük', 180),\n",
       " ('bi', 141),\n",
       " ('aynı', 121),\n",
       " ('uygulama', 115),\n",
       " ('merak', 114),\n",
       " ('sistem', 110),\n",
       " ('insan', 107),\n",
       " ('türk', 104),\n",
       " ('edevlet', 103),\n",
       " ('baba', 96),\n",
       " ('hizmet', 95),\n",
       " ('saat', 94),\n",
       " ('sadece', 91),\n",
       " ('zaman', 88),\n",
       " ('güzel', 86),\n",
       " ('anne', 85),\n",
       " ('adam', 85),\n",
       " ('ilk', 83),\n",
       " ('nedir', 80),\n",
       " ('başka', 70),\n",
       " ('ulan', 70),\n",
       " ('iyi', 70),\n",
       " ('nüfus', 69),\n",
       " ('an', 68),\n",
       " ('gece', 68),\n",
       " ('fazla', 67),\n",
       " ('üzerinden', 65),\n",
       " ('son', 64),\n",
       " ('devam', 64),\n",
       " ('devlet', 64),\n",
       " ('olacak', 62),\n",
       " ('sorgulama', 62),\n",
       " ('saygı', 61),\n",
       " ('tek', 60),\n",
       " ('para', 60),\n",
       " ('gün', 59),\n",
       " ('sonunda', 57),\n",
       " ('geliyor', 56),\n",
       " ('ediyorum', 56),\n",
       " ('dedemin', 56),\n",
       " ('yeni', 54),\n",
       " ('tarafı', 54),\n",
       " ('babamın', 53),\n",
       " ('babasının', 53),\n",
       " ('yıl', 53),\n",
       " ('ermeni', 52),\n",
       " ('insanlar', 52),\n",
       " ('kürt', 50),\n",
       " ('geldi', 50),\n",
       " ('site', 50),\n",
       " ('tekrar', 49),\n",
       " ('tl', 48),\n",
       " ('altüst', 48),\n",
       " ('olabilir', 48),\n",
       " ('atatürk', 47),\n",
       " ('sanırım', 47),\n",
       " ('çıktı', 47),\n",
       " ('kişi', 46),\n",
       " ('millet', 45),\n",
       " ('belge', 45),\n",
       " ('dedem', 44),\n",
       " ('hemen', 44),\n",
       " ('kadın', 43),\n",
       " ('varsa', 43),\n",
       " ('farklı', 43),\n",
       " ('bugün', 43),\n",
       " ('geri', 42),\n",
       " ('kimya', 42),\n",
       " ('nereden', 42),\n",
       " ('bilgi', 41),\n",
       " ('lütfen', 41),\n",
       " ('cok', 41),\n",
       " ('önemli', 41),\n",
       " ('teknik', 40),\n",
       " ('diyor', 40),\n",
       " ('arkadaş', 40),\n",
       " ('be', 39),\n",
       " ('dedim', 39),\n",
       " ('demek', 39),\n",
       " ('doğum', 38),\n",
       " ('sene', 38),\n",
       " ('yapan', 38),\n",
       " ('not', 38),\n",
       " ('gerçekten', 38),\n",
       " ('tabi', 37),\n",
       " ('durum', 37),\n",
       " ('doğru', 37),\n",
       " ('bak', 37),\n",
       " ('iş', 37),\n",
       " ('saattir', 37),\n",
       " ('fizik', 36),\n",
       " ('yer', 36),\n",
       " ('gelen', 35),\n",
       " ('soyunu', 35),\n",
       " ('insanların', 35),\n",
       " ('yaklaşık', 35),\n",
       " ('yeri', 35),\n",
       " ('giriş', 34)]"
      ]
     },
     "execution_count": 132,
     "metadata": {},
     "output_type": "execute_result"
    }
   ],
   "source": [
    "sorted(bag_of_words.items(),key=operator.itemgetter(1),reverse=True)[:100]"
   ]
  },
  {
   "cell_type": "code",
   "execution_count": 133,
   "metadata": {},
   "outputs": [
    {
     "data": {
      "text/plain": [
       "Counter({2: 98,\n",
       "         3: 431,\n",
       "         4: 860,\n",
       "         5: 2007,\n",
       "         6: 2398,\n",
       "         7: 3023,\n",
       "         8: 2949,\n",
       "         9: 2680,\n",
       "         10: 2112,\n",
       "         11: 1567,\n",
       "         12: 1046,\n",
       "         13: 659,\n",
       "         14: 381,\n",
       "         15: 215,\n",
       "         16: 141,\n",
       "         17: 77,\n",
       "         18: 38,\n",
       "         19: 20,\n",
       "         20: 20,\n",
       "         21: 9,\n",
       "         22: 5,\n",
       "         23: 3,\n",
       "         24: 2,\n",
       "         25: 1,\n",
       "         26: 2,\n",
       "         27: 2,\n",
       "         29: 1})"
      ]
     },
     "execution_count": 133,
     "metadata": {},
     "output_type": "execute_result"
    }
   ],
   "source": [
    "len_list = [len(x) for x in list(bag_of_words.keys())]\n",
    "cnt = Counter()\n",
    "for w in len_list:\n",
    "    cnt[w] += 1\n",
    "cnt"
   ]
  },
  {
   "cell_type": "code",
   "execution_count": 114,
   "metadata": {},
   "outputs": [],
   "source": [
    "#[(x,len(x)) for x in list(bag_of_words.keys()) if len(x) == 2]"
   ]
  },
  {
   "cell_type": "code",
   "execution_count": 136,
   "metadata": {},
   "outputs": [
    {
     "data": {
      "text/plain": [
       "20747"
      ]
     },
     "execution_count": 136,
     "metadata": {},
     "output_type": "execute_result"
    }
   ],
   "source": [
    "len(bag_of_words)"
   ]
  },
  {
   "cell_type": "code",
   "execution_count": 235,
   "metadata": {},
   "outputs": [],
   "source": [
    "cutoff = 1000\n",
    "prob_cutoff = 0.75\n",
    "i = 0\n",
    "with open(\"word_sim.csv\",\"w\",encoding=\"utf8\") as f:\n",
    "    for word1 in bag_of_words:\n",
    "        i += 1\n",
    "        if i > cutoff:\n",
    "            break\n",
    "        j = 0\n",
    "        for word2 in bag_of_words:\n",
    "            j += 1\n",
    "            if j > cutoff:\n",
    "                break\n",
    "            if word1 != word2:\n",
    "                sim_score = SequenceMatcher(None,word1,word2).ratio()\n",
    "                if sim_score > prob_cutoff:\n",
    "                    f.write(word1 + \"|\" + word2 + \"->\" + str(sim_score) + \"\\r\\n\")\n"
   ]
  },
  {
   "cell_type": "markdown",
   "metadata": {},
   "source": [
    "## Twitter Parsing"
   ]
  },
  {
   "cell_type": "code",
   "execution_count": 267,
   "metadata": {},
   "outputs": [
    {
     "data": {
      "text/plain": [
       "'Bandung, West Java'"
      ]
     },
     "execution_count": 267,
     "metadata": {},
     "output_type": "execute_result"
    }
   ],
   "source": [
    "ss = [json.loads(open(\"twits/\" + a).read()) for a in filenames]\n",
    "ss[0][\"user\"][\"location\"]"
   ]
  },
  {
   "cell_type": "code",
   "execution_count": 268,
   "metadata": {},
   "outputs": [],
   "source": [
    "filenames = os.listdir(\"twits\")\n",
    "twit_list = []\n",
    "for file in filenames:\n",
    "    fullpath = \"twits/\" + file\n",
    "    full_text = \"\"\n",
    "    location = \"\"\n",
    "    with open(fullpath,\"r\") as f:\n",
    "        curr_tw = json.loads(f.read())\n",
    "        if \"text\" not in curr_tw:\n",
    "            continue\n",
    "            \n",
    "        text = curr_tw[\"text\"]\n",
    "        \n",
    "        if \"retweeted_status\" in curr_tw.keys():\n",
    "            if \"extended_tweet\" in curr_tw[\"retweeted_status\"].keys():\n",
    "                if \"full_text\" in curr_tw[\"retweeted_status\"][\"extended_tweet\"].keys():\n",
    "                    full_text = curr_tw[\"retweeted_status\"][\"extended_tweet\"][\"full_text\"]\n",
    "        if \"user\" in curr_tw.keys():\n",
    "            if \"location\" in curr_tw[\"user\"].keys():\n",
    "                location = curr_tw[\"user\"][\"location\"]\n",
    "                    \n",
    "        twit_list.append([text,full_text,location])\n",
    "                    \n",
    "        \n"
   ]
  },
  {
   "cell_type": "code",
   "execution_count": 300,
   "metadata": {},
   "outputs": [],
   "source": [
    "delim = \"||\"\n",
    "with open(\"tweets.csv\",\"w\",encoding=\"utf8\") as f:\n",
    "    for twit in twit_list:\n",
    "        if len(str(twit[1])) > 2:\n",
    "            #f.write(str(twit[1]) + delim + str(twit[2]) + \"\\r\\n\")\n",
    "            content = str(twit[1])\n",
    "        else:\n",
    "            content = str(twit[0])\n",
    "        content = content.replace(\"\\r\\n\",\"\")\n",
    "        content = content.replace(\"\\n\",\"\")\n",
    "        f.write(content + delim + str(twit[2]) + \"\\r\\n\")\n",
    "    "
   ]
  },
  {
   "cell_type": "code",
   "execution_count": 275,
   "metadata": {
    "scrolled": true
   },
   "outputs": [
    {
     "data": {
      "text/plain": [
       "1786"
      ]
     },
     "execution_count": 275,
     "metadata": {},
     "output_type": "execute_result"
    }
   ],
   "source": [
    "len(twit_list)"
   ]
  },
  {
   "cell_type": "code",
   "execution_count": 33,
   "metadata": {
    "collapsed": true
   },
   "outputs": [],
   "source": [
    "with open(\"HUMIRSentimentDatasets.csv\", encoding=\"utf8\") as f:\n",
    "    x = f.readlines()"
   ]
  },
  {
   "cell_type": "code",
   "execution_count": 36,
   "metadata": {
    "scrolled": true
   },
   "outputs": [
    {
     "data": {
      "text/plain": [
       "['\\ufeff80101;Hotel Review;asla gidilmeyecek bir otel hasta oldukotel tam anlamıyla bir fiyasko satın alırken ve web sitesinde gözünüze çarpan en büyük özellik otelin tüm alanlarının yenilenmiş olması ama bunun gerçekle alakası yok odalar en az  yıllık bir otel harabeliğinde yemekler ve özellikle kahvaltı tam bir hayal kırıklığı kahvaltıdaki yiyecekler asla yenmeyecek ve yedirilmeyecek kadar kötü bir tane lekesiz temiz bir tabak bardak veya çatal kaşık görmeniz olası bile değil içecek konusunda su değil zehirli su katılmış gibi gerçeği ile alakası olmayan içecekler ıce tea yada soğuk çay cinsi birşey otelde asla yok konsepte uygun değilmiş açıklama bu soğuk çay hangi konseptin ki acaba bu otele uymuyor garsonların hepsi kendi dalında bir kabadayı restaurant müdürü denen kişi inanılmaz yeteneksiz asla yeme içme kültürü yok gerçekten birsey isteyipte almanız mucize birde asıl bir mevzu varki anlatılmaz bu otelde can güvenliğiniz yok oda anahtarı kardeşimdeydi ben resepsiyona anahtar almaya gittim sırf anahtar yapmamak için elimde anahtar yok dedi benim sorunum değil bulacaksınız ben odama gireceğim anahtar kardeşimde oda otel dışında dedim sordu oda numaramı yaptı verdi ama tuhaf olan şuki ne oda numaramdan adımı kontrol etti yada hiçbirşey sormadı bizi daha öncede görmedi ki güven esaslı verdi diyeceğim yani herkes oda anahtarını alıp herseyi yapabilir otelde şampuan yok tamam kimse kullanmıyor belki ama * lı bir otelde nasıl olmaz otelde terlik yok yani yoklar oteli ama şunu söylemem gereki ki housekeeping deki çalışanlar çok iyi hk yöneticileri asla insana değer vermeyen asık suratlı insanlar tatil dönüşü kendimi kardeşimle beraber hastanede bulduk tatil boyunca azıcıkda olsa yediğimiz herseyi çıkardık ve geldiğimizde serum alacak kadar hasta olduk biz gittiğimizde otelin sahibide oteldeydi tüm şikayetleri memnuniyetsizlikleri duyuyor ama asla umurlarında olmuyor sahili çok kötü kıyısı berrak değil iskele dökülüyor asla gidilmeyecek bir otel;Negative;train;1\\n',\n",
       " '80102;Hotel Review;berbatbalayı için tercih etmiş olduğumuz bir oteldi kesinlikle ödemiş olduğumuz ücrete karşılık aldığımız hizmet çok kötüydü balayı konsepti sadece isimde kalmış bir otel daha ekonomik ücretlerle daha kaliteli hizmet alınabilecek oteller var normal bir tatil için tercih edilebilir belki ama balayı için kesinlikle kötü bir yer;Negative;train;1\\n',\n",
       " '80103;Hotel Review;rexaletodalar felaket hamamböcekleri toz lobby de personel hırsızlığı eşime sözlü sarkıntılık küstahlık burada övenler ya daha önce  yıldız otel görmemiş ya da personelce hikayeden yazılmış hele ki animasyonlar güzeldi yazanlar ciddi misiniz karşılıksız olarak sadece gerçekler bilginize;Negative;train;1\\n',\n",
       " '80104;Hotel Review;berbat personeliyim otelin mutlaka okuyunmerhaba arkadaslar ben bu otelin calısanıyım otel cok berbat bi yer kalınacak gibi digil suları lavobolardan dolduruyorlar bakın gayet ciddiyim yemek malzemeleri ise otelin girisinde hemen sol tarafta bir kapı var alt kata dogru iniyo orda saklıyor malzemeleri içeriyi görsenz yasamak istemezdiniz emin olun    cm kadar laam akıyo meyveler falan içecekler hep onun içine atmıslar bakın ben otelin barmeniyim içkilere kendi elimle su katardım ha yanlıs bişi tabi ama adam kat diyodu içki vermeyince carem yoktu baska eleman calısmadıgı için restrantata bakıyodum içme sular falan hep lavabo meyve suları lavodan dolup yapılıo eger saglıgınız sizin için önemliyse o mafyaların otelinde ne calısmayı nede tatil yapmayı öneririm size adamlar calıstıgın parayıı bile vemiyorlar durumun olmaynca bırakamcn mecburen para verir diye ümit ederek calıscan o yuzden hiç bulasmayın;Negative;train;1\\n',\n",
       " '80105;Hotel Review;\"sıkıcı açözel sektör çalışanı olduğum ve önümüzdeki yaza kadar başka tatilim olmadığı için  ay önceden bayram tatili için rezervasyon yaptırdım bu notları yazarken eşimle ve   yaşındaki oğlumla beraber hala otelde konaklamaktayım şu ana kadar geçen  günlük sürede otelle ilgili söyleyebileceğim tek iyi şey parasını vererek kaldığım deluxe odaları bu odaları gerçekten çok güzel full deniz manzaralı ancak restauranta gitmek ayrı bir dert havuza denize çocuk arabasıyla inmek ayrı bir dert  gündür yemekleri kötü akşam yaptıkları köfteyi ertesi gün öğlen farklı yemek gibi tekrar sunuyorlar  yıldızlıbir otele göre ana yemek ve meze çeşitleri çok zayıf genelde herşey dahil otellerde kilo alınır ama bu otelde öyle bir sorun yok hatta rejim yapabilirsiniz yağmur nedeniyle hiçbir aktivite yok denize girilmiyor canımız çok sıkıldı otelin kapalı alanı yok ;((personeller suratsıx daha doğrusu Türk müşterilere selam bile vermiyorlar ancak turistlerin peşinden yalaka yalaka koşturuyorlar şu ana kadarkaldığım en kötü oteller sıralamasında bu oteli liste başına yazıyorum\";Negative;train;1\\n']"
      ]
     },
     "execution_count": 36,
     "metadata": {},
     "output_type": "execute_result"
    }
   ],
   "source": [
    "x[:5]"
   ]
  }
 ],
 "metadata": {
  "kernelspec": {
   "display_name": "Python ML",
   "language": "python",
   "name": "py3-ml"
  },
  "language_info": {
   "codemirror_mode": {
    "name": "ipython",
    "version": 3
   },
   "file_extension": ".py",
   "mimetype": "text/x-python",
   "name": "python",
   "nbconvert_exporter": "python",
   "pygments_lexer": "ipython3",
   "version": "3.5.4"
  }
 },
 "nbformat": 4,
 "nbformat_minor": 2
}
